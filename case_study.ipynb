{
 "cells": [
  {
   "cell_type": "markdown",
   "metadata": {
    "collapsed": true,
    "pycharm": {
     "name": "#%% md\n"
    }
   },
   "source": [
    "# Titanic case study E&Y\n",
    "\n",
    "Data source: https://www.kaggle.com/datasets/vinicius150987/titanic3\n",
    "už namergovaný dataset\n",
    "\n",
    "Features:\n",
    "    PClass - třída, hodnoty 1,2,3\n",
    "    Survived - ano(1)/ne(0)\n",
    "    Name - jméno\n",
    "    sex - pohlaví\n",
    "    age - věk\n",
    "    sibsp - počet sourozenců na palubě\n",
    "    parch - počet rodičů/dětí na palubě\n",
    "    ticekt - číslo lístku\n",
    "    fare - cena lístku\n",
    "    cabin - pokoj\n",
    "    embarked - přístav nalodění(C = Cherbourg, Q = Queenstown, S = Southampton)\n",
    "    boat - číslo záchranného člunu (pokud survived ano)\n",
    "    body - číslo vyloveného těla (survived no)\n",
    "    home.dest - cílová destinace"
   ]
  },
  {
   "cell_type": "code",
   "execution_count": 1,
   "outputs": [],
   "source": [
    "import pandas as pd\n",
    "import numpy as np\n",
    "\n",
    "import matplotlib.pyplot as plt\n",
    "%matplotlib inline\n",
    "import seaborn as sns\n",
    "\n",
    "from sklearn.linear_model import LogisticRegression\n",
    "from sklearn.metrics import confusion_matrix\n",
    "from sklearn.metrics import accuracy_score,recall_score,precision_score\n",
    "from sklearn.model_selection import train_test_split\n",
    "from sklearn.preprocessing import StandardScaler\n",
    "from sklearn.metrics import plot_confusion_matrix\n",
    "from sklearn.tree import DecisionTreeClassifier\n",
    "from sklearn import tree\n",
    "from sklearn.preprocessing import OneHotEncoder\n",
    "from sklearn.model_selection import RandomizedSearchCV\n",
    "\n",
    "from imblearn.over_sampling import RandomOverSampler\n",
    "from xgboost import XGBClassifier\n",
    "from scipy import stats\n",
    "import tensorflow as tf\n",
    "from tensorflow import keras"
   ],
   "metadata": {
    "collapsed": false,
    "pycharm": {
     "name": "#%%\n"
    }
   }
  },
  {
   "cell_type": "code",
   "execution_count": 2,
   "outputs": [
    {
     "data": {
      "text/plain": "   pclass  survived                                             name     sex  \\\n0       1         1                    Allen, Miss. Elisabeth Walton  female   \n1       1         1                   Allison, Master. Hudson Trevor    male   \n2       1         0                     Allison, Miss. Helen Loraine  female   \n3       1         0             Allison, Mr. Hudson Joshua Creighton    male   \n4       1         0  Allison, Mrs. Hudson J C (Bessie Waldo Daniels)  female   \n\n       age  sibsp  parch  ticket      fare    cabin embarked boat   body  \\\n0  29.0000      0      0   24160  211.3375       B5        S    2    NaN   \n1   0.9167      1      2  113781  151.5500  C22 C26        S   11    NaN   \n2   2.0000      1      2  113781  151.5500  C22 C26        S  NaN    NaN   \n3  30.0000      1      2  113781  151.5500  C22 C26        S  NaN  135.0   \n4  25.0000      1      2  113781  151.5500  C22 C26        S  NaN    NaN   \n\n                         home.dest  \n0                     St Louis, MO  \n1  Montreal, PQ / Chesterville, ON  \n2  Montreal, PQ / Chesterville, ON  \n3  Montreal, PQ / Chesterville, ON  \n4  Montreal, PQ / Chesterville, ON  ",
      "text/html": "<div>\n<style scoped>\n    .dataframe tbody tr th:only-of-type {\n        vertical-align: middle;\n    }\n\n    .dataframe tbody tr th {\n        vertical-align: top;\n    }\n\n    .dataframe thead th {\n        text-align: right;\n    }\n</style>\n<table border=\"1\" class=\"dataframe\">\n  <thead>\n    <tr style=\"text-align: right;\">\n      <th></th>\n      <th>pclass</th>\n      <th>survived</th>\n      <th>name</th>\n      <th>sex</th>\n      <th>age</th>\n      <th>sibsp</th>\n      <th>parch</th>\n      <th>ticket</th>\n      <th>fare</th>\n      <th>cabin</th>\n      <th>embarked</th>\n      <th>boat</th>\n      <th>body</th>\n      <th>home.dest</th>\n    </tr>\n  </thead>\n  <tbody>\n    <tr>\n      <th>0</th>\n      <td>1</td>\n      <td>1</td>\n      <td>Allen, Miss. Elisabeth Walton</td>\n      <td>female</td>\n      <td>29.0000</td>\n      <td>0</td>\n      <td>0</td>\n      <td>24160</td>\n      <td>211.3375</td>\n      <td>B5</td>\n      <td>S</td>\n      <td>2</td>\n      <td>NaN</td>\n      <td>St Louis, MO</td>\n    </tr>\n    <tr>\n      <th>1</th>\n      <td>1</td>\n      <td>1</td>\n      <td>Allison, Master. Hudson Trevor</td>\n      <td>male</td>\n      <td>0.9167</td>\n      <td>1</td>\n      <td>2</td>\n      <td>113781</td>\n      <td>151.5500</td>\n      <td>C22 C26</td>\n      <td>S</td>\n      <td>11</td>\n      <td>NaN</td>\n      <td>Montreal, PQ / Chesterville, ON</td>\n    </tr>\n    <tr>\n      <th>2</th>\n      <td>1</td>\n      <td>0</td>\n      <td>Allison, Miss. Helen Loraine</td>\n      <td>female</td>\n      <td>2.0000</td>\n      <td>1</td>\n      <td>2</td>\n      <td>113781</td>\n      <td>151.5500</td>\n      <td>C22 C26</td>\n      <td>S</td>\n      <td>NaN</td>\n      <td>NaN</td>\n      <td>Montreal, PQ / Chesterville, ON</td>\n    </tr>\n    <tr>\n      <th>3</th>\n      <td>1</td>\n      <td>0</td>\n      <td>Allison, Mr. Hudson Joshua Creighton</td>\n      <td>male</td>\n      <td>30.0000</td>\n      <td>1</td>\n      <td>2</td>\n      <td>113781</td>\n      <td>151.5500</td>\n      <td>C22 C26</td>\n      <td>S</td>\n      <td>NaN</td>\n      <td>135.0</td>\n      <td>Montreal, PQ / Chesterville, ON</td>\n    </tr>\n    <tr>\n      <th>4</th>\n      <td>1</td>\n      <td>0</td>\n      <td>Allison, Mrs. Hudson J C (Bessie Waldo Daniels)</td>\n      <td>female</td>\n      <td>25.0000</td>\n      <td>1</td>\n      <td>2</td>\n      <td>113781</td>\n      <td>151.5500</td>\n      <td>C22 C26</td>\n      <td>S</td>\n      <td>NaN</td>\n      <td>NaN</td>\n      <td>Montreal, PQ / Chesterville, ON</td>\n    </tr>\n  </tbody>\n</table>\n</div>"
     },
     "execution_count": 2,
     "metadata": {},
     "output_type": "execute_result"
    }
   ],
   "source": [
    "df = pd.read_excel('data/titanic3.xls')\n",
    "df.head(5)"
   ],
   "metadata": {
    "collapsed": false,
    "pycharm": {
     "name": "#%%\n"
    }
   }
  },
  {
   "cell_type": "code",
   "execution_count": 3,
   "outputs": [
    {
     "name": "stdout",
     "output_type": "stream",
     "text": [
      "<class 'pandas.core.frame.DataFrame'>\n",
      "RangeIndex: 1309 entries, 0 to 1308\n",
      "Data columns (total 14 columns):\n",
      " #   Column     Non-Null Count  Dtype  \n",
      "---  ------     --------------  -----  \n",
      " 0   pclass     1309 non-null   int64  \n",
      " 1   survived   1309 non-null   int64  \n",
      " 2   name       1309 non-null   object \n",
      " 3   sex        1309 non-null   object \n",
      " 4   age        1046 non-null   float64\n",
      " 5   sibsp      1309 non-null   int64  \n",
      " 6   parch      1309 non-null   int64  \n",
      " 7   ticket     1309 non-null   object \n",
      " 8   fare       1308 non-null   float64\n",
      " 9   cabin      295 non-null    object \n",
      " 10  embarked   1307 non-null   object \n",
      " 11  boat       486 non-null    object \n",
      " 12  body       121 non-null    float64\n",
      " 13  home.dest  745 non-null    object \n",
      "dtypes: float64(3), int64(4), object(7)\n",
      "memory usage: 143.3+ KB\n"
     ]
    }
   ],
   "source": [
    "df.info()"
   ],
   "metadata": {
    "collapsed": false,
    "pycharm": {
     "name": "#%%\n"
    }
   }
  },
  {
   "cell_type": "code",
   "execution_count": 4,
   "outputs": [],
   "source": [
    "# dropnutí Name a dalších features s velkým počtem chybějících hodnot a malou výpovědní hodnotou\n",
    "df = df.drop(['name','ticket','cabin','boat','body','home.dest'], axis=1)\n",
    "df['survived'] = df['survived'].replace({1 : 'yes', 0 : 'no'})\n",
    "df['embarked'] = df['embarked'].replace({'S' : 'Southampton', 'C' : 'Cherbourg', 'Q' : 'Queenstown'})"
   ],
   "metadata": {
    "collapsed": false,
    "pycharm": {
     "name": "#%%\n"
    }
   }
  },
  {
   "cell_type": "code",
   "execution_count": 5,
   "outputs": [
    {
     "data": {
      "text/plain": "            pclass          age        sibsp        parch         fare\ncount  1309.000000  1046.000000  1309.000000  1309.000000  1308.000000\nmean      2.294882    29.881135     0.498854     0.385027    33.295479\nstd       0.837836    14.413500     1.041658     0.865560    51.758668\nmin       1.000000     0.166700     0.000000     0.000000     0.000000\n25%       2.000000    21.000000     0.000000     0.000000     7.895800\n50%       3.000000    28.000000     0.000000     0.000000    14.454200\n75%       3.000000    39.000000     1.000000     0.000000    31.275000\nmax       3.000000    80.000000     8.000000     9.000000   512.329200",
      "text/html": "<div>\n<style scoped>\n    .dataframe tbody tr th:only-of-type {\n        vertical-align: middle;\n    }\n\n    .dataframe tbody tr th {\n        vertical-align: top;\n    }\n\n    .dataframe thead th {\n        text-align: right;\n    }\n</style>\n<table border=\"1\" class=\"dataframe\">\n  <thead>\n    <tr style=\"text-align: right;\">\n      <th></th>\n      <th>pclass</th>\n      <th>age</th>\n      <th>sibsp</th>\n      <th>parch</th>\n      <th>fare</th>\n    </tr>\n  </thead>\n  <tbody>\n    <tr>\n      <th>count</th>\n      <td>1309.000000</td>\n      <td>1046.000000</td>\n      <td>1309.000000</td>\n      <td>1309.000000</td>\n      <td>1308.000000</td>\n    </tr>\n    <tr>\n      <th>mean</th>\n      <td>2.294882</td>\n      <td>29.881135</td>\n      <td>0.498854</td>\n      <td>0.385027</td>\n      <td>33.295479</td>\n    </tr>\n    <tr>\n      <th>std</th>\n      <td>0.837836</td>\n      <td>14.413500</td>\n      <td>1.041658</td>\n      <td>0.865560</td>\n      <td>51.758668</td>\n    </tr>\n    <tr>\n      <th>min</th>\n      <td>1.000000</td>\n      <td>0.166700</td>\n      <td>0.000000</td>\n      <td>0.000000</td>\n      <td>0.000000</td>\n    </tr>\n    <tr>\n      <th>25%</th>\n      <td>2.000000</td>\n      <td>21.000000</td>\n      <td>0.000000</td>\n      <td>0.000000</td>\n      <td>7.895800</td>\n    </tr>\n    <tr>\n      <th>50%</th>\n      <td>3.000000</td>\n      <td>28.000000</td>\n      <td>0.000000</td>\n      <td>0.000000</td>\n      <td>14.454200</td>\n    </tr>\n    <tr>\n      <th>75%</th>\n      <td>3.000000</td>\n      <td>39.000000</td>\n      <td>1.000000</td>\n      <td>0.000000</td>\n      <td>31.275000</td>\n    </tr>\n    <tr>\n      <th>max</th>\n      <td>3.000000</td>\n      <td>80.000000</td>\n      <td>8.000000</td>\n      <td>9.000000</td>\n      <td>512.329200</td>\n    </tr>\n  </tbody>\n</table>\n</div>"
     },
     "execution_count": 5,
     "metadata": {},
     "output_type": "execute_result"
    }
   ],
   "source": [
    "df.describe()"
   ],
   "metadata": {
    "collapsed": false,
    "pycharm": {
     "name": "#%%\n"
    }
   }
  },
  {
   "cell_type": "code",
   "execution_count": 6,
   "outputs": [
    {
     "data": {
      "text/plain": "pclass        0\nsurvived      0\nsex           0\nage         263\nsibsp         0\nparch         0\nfare          1\nembarked      2\ndtype: int64"
     },
     "execution_count": 6,
     "metadata": {},
     "output_type": "execute_result"
    }
   ],
   "source": [
    "df.isnull().sum()"
   ],
   "metadata": {
    "collapsed": false,
    "pycharm": {
     "name": "#%%\n"
    }
   }
  },
  {
   "cell_type": "markdown",
   "source": [
    "## Chybějící hodnoty\n",
    "V numerických sloupcích chybějí hodnoty ve sloupcích age a fare, z kategorických proměnných chybí dvě hodnoty ve sloupci embarked\n",
    "    k vyřešení tohoto problému lze přistupovat několika způsoby, viz funkce missingValues"
   ],
   "metadata": {
    "collapsed": false,
    "pycharm": {
     "name": "#%% md\n"
    }
   }
  },
  {
   "cell_type": "code",
   "execution_count": 7,
   "outputs": [],
   "source": [
    "def missingValues(df, approach):\n",
    "    if approach == 'mean':\n",
    "        df['age'] = df['age'].fillna(df['age'].mean())\n",
    "        df['fare'] = df['fare'].fillna(df['fare'].mean())\n",
    "        df.dropna(inplace = True)\n",
    "    elif approach == 'fill':\n",
    "        df['age'] = df['age'].fillna(method=\"ffill\")\n",
    "        df['fare'] = df['fare'].fillna(method=\"ffill\")\n",
    "        df = df.dropna()\n",
    "    else:\n",
    "        df = df.dropna()\n",
    "    return df"
   ],
   "metadata": {
    "collapsed": false,
    "pycharm": {
     "name": "#%%\n"
    }
   }
  },
  {
   "cell_type": "code",
   "execution_count": 8,
   "outputs": [
    {
     "name": "stdout",
     "output_type": "stream",
     "text": [
      "<class 'pandas.core.frame.DataFrame'>\n",
      "Int64Index: 1307 entries, 0 to 1308\n",
      "Data columns (total 8 columns):\n",
      " #   Column    Non-Null Count  Dtype  \n",
      "---  ------    --------------  -----  \n",
      " 0   pclass    1307 non-null   int64  \n",
      " 1   survived  1307 non-null   object \n",
      " 2   sex       1307 non-null   object \n",
      " 3   age       1307 non-null   float64\n",
      " 4   sibsp     1307 non-null   int64  \n",
      " 5   parch     1307 non-null   int64  \n",
      " 6   fare      1307 non-null   float64\n",
      " 7   embarked  1307 non-null   object \n",
      "dtypes: float64(2), int64(3), object(3)\n",
      "memory usage: 91.9+ KB\n"
     ]
    }
   ],
   "source": [
    "df = missingValues(df,'mean')\n",
    "df.info()"
   ],
   "metadata": {
    "collapsed": false,
    "pycharm": {
     "name": "#%%\n"
    }
   }
  },
  {
   "cell_type": "markdown",
   "source": [
    "## EDA"
   ],
   "metadata": {
    "collapsed": false,
    "pycharm": {
     "name": "#%% md\n"
    }
   }
  },
  {
   "cell_type": "markdown",
   "source": [
    "### distribuce hodnot\n",
    "možnost zjištění zavisloti jednotlivých sloupců na cílové proměnné"
   ],
   "metadata": {
    "collapsed": false,
    "pycharm": {
     "name": "#%% md\n"
    }
   }
  },
  {
   "cell_type": "code",
   "execution_count": 9,
   "outputs": [
    {
     "data": {
      "text/plain": "<Figure size 432x288 with 1 Axes>",
      "image/png": "[encoded data removed]"
     },
     "metadata": {
      "needs_background": "light"
     },
     "output_type": "display_data"
    }
   ],
   "source": [
    "#cílová proměnná\n",
    "sns.countplot(x='sex',data =  df, palette=\"mako_r\")\n",
    "plt.xlabel('Pohlaví')\n",
    "plt.show()"
   ],
   "metadata": {
    "collapsed": false,
    "pycharm": {
     "name": "#%%\n"
    }
   }
  },
  {
   "cell_type": "code",
   "execution_count": 10,
   "outputs": [
    {
     "data": {
      "text/plain": "male      843\nfemale    464\nName: sex, dtype: int64"
     },
     "execution_count": 10,
     "metadata": {},
     "output_type": "execute_result"
    }
   ],
   "source": [
    "df['sex'].value_counts()"
   ],
   "metadata": {
    "collapsed": false,
    "pycharm": {
     "name": "#%%\n"
    }
   }
  },
  {
   "cell_type": "markdown",
   "source": [
    "Cílová proměnná je nevybalancovaná -> před modelováním SMOTE"
   ],
   "metadata": {
    "collapsed": false,
    "pycharm": {
     "name": "#%% md\n"
    }
   }
  },
  {
   "cell_type": "code",
   "execution_count": 11,
   "outputs": [
    {
     "data": {
      "text/plain": "<Figure size 432x288 with 1 Axes>",
      "image/png": "[encoded data removed]"
     },
     "metadata": {
      "needs_background": "light"
     },
     "output_type": "display_data"
    }
   ],
   "source": [
    "sns.countplot(x='survived',data =  df, palette=\"mako_r\")\n",
    "plt.xlabel('Survived')\n",
    "plt.show()"
   ],
   "metadata": {
    "collapsed": false,
    "pycharm": {
     "name": "#%%\n"
    }
   }
  },
  {
   "cell_type": "code",
   "execution_count": 12,
   "outputs": [
    {
     "data": {
      "text/plain": "<Figure size 432x288 with 1 Axes>",
      "image/png": "[encoded data removed]"
     },
     "metadata": {
      "needs_background": "light"
     },
     "output_type": "display_data"
    }
   ],
   "source": [
    "sns.countplot(x='sex', hue='survived',data =  df, palette=\"mako_r\")\n",
    "plt.xlabel('Poměr přeživších v závisloti na pohlaví')\n",
    "plt.show()"
   ],
   "metadata": {
    "collapsed": false,
    "pycharm": {
     "name": "#%%\n"
    }
   }
  },
  {
   "cell_type": "code",
   "execution_count": 13,
   "outputs": [
    {
     "data": {
      "text/plain": "sex     survived\nmale    no          682\nfemale  yes         337\nmale    yes         161\nfemale  no          127\ndtype: int64"
     },
     "execution_count": 13,
     "metadata": {},
     "output_type": "execute_result"
    }
   ],
   "source": [
    "df.value_counts(['sex','survived'])"
   ],
   "metadata": {
    "collapsed": false,
    "pycharm": {
     "name": "#%%\n"
    }
   }
  },
  {
   "cell_type": "markdown",
   "source": [
    "Velká zavislost proměnných sex a survived, většina žen přežila, zatímco u mužů tomu bylo právě naopak"
   ],
   "metadata": {
    "collapsed": false,
    "pycharm": {
     "name": "#%% md\n"
    }
   }
  },
  {
   "cell_type": "code",
   "execution_count": 14,
   "outputs": [
    {
     "data": {
      "text/plain": "<Figure size 432x288 with 1 Axes>",
      "image/png": "[encoded data removed]"
     },
     "metadata": {
      "needs_background": "light"
     },
     "output_type": "display_data"
    }
   ],
   "source": [
    "sns.countplot(x='pclass',data =  df, palette=\"mako_r\")\n",
    "plt.xlabel('Třídy')\n",
    "plt.show()"
   ],
   "metadata": {
    "collapsed": false,
    "pycharm": {
     "name": "#%%\n"
    }
   }
  },
  {
   "cell_type": "code",
   "execution_count": 15,
   "outputs": [
    {
     "data": {
      "text/plain": "<Figure size 432x288 with 1 Axes>",
      "image/png": "[encoded data removed]"
     },
     "metadata": {
      "needs_background": "light"
     },
     "output_type": "display_data"
    }
   ],
   "source": [
    "sns.countplot(x='pclass' ,data =  df,hue='sex', palette=\"mako_r\")\n",
    "plt.xlabel('Pohlaví a distribuce v jednotlivých třídách')\n",
    "plt.show()"
   ],
   "metadata": {
    "collapsed": false,
    "pycharm": {
     "name": "#%%\n"
    }
   }
  },
  {
   "cell_type": "code",
   "execution_count": 16,
   "outputs": [
    {
     "data": {
      "text/plain": "<seaborn.axisgrid.FacetGrid at 0x279c589de20>"
     },
     "execution_count": 16,
     "metadata": {},
     "output_type": "execute_result"
    },
    {
     "data": {
      "text/plain": "<Figure size 430.5x360 with 1 Axes>",
      "image/png": "[encoded data removed]"
     },
     "metadata": {
      "needs_background": "light"
     },
     "output_type": "display_data"
    }
   ],
   "source": [
    "x,y = 'pclass', 'sex'\n",
    "\n",
    "(df\n",
    ".groupby(x)[y]\n",
    ".value_counts(normalize=True)\n",
    ".mul(100)\n",
    ".rename('percent')\n",
    ".reset_index()\n",
    ".pipe((sns.catplot,'data'), x=x,y='percent',hue=y,kind='bar',palette=\"mako_r\"))"
   ],
   "metadata": {
    "collapsed": false,
    "pycharm": {
     "name": "#%%\n"
    }
   }
  },
  {
   "cell_type": "markdown",
   "source": [
    "Ve třetí třídě byl největší poměr mužů, který se následně snižuje"
   ],
   "metadata": {
    "collapsed": false,
    "pycharm": {
     "name": "#%% md\n"
    }
   }
  },
  {
   "cell_type": "code",
   "execution_count": 17,
   "outputs": [
    {
     "data": {
      "text/plain": "<Figure size 432x288 with 1 Axes>",
      "image/png": "[encoded data removed]"
     },
     "metadata": {
      "needs_background": "light"
     },
     "output_type": "display_data"
    }
   ],
   "source": [
    "sns.countplot(x='embarked',data =  df, palette=\"mako_r\")\n",
    "plt.xlabel('Místo nalodění')\n",
    "plt.show()"
   ],
   "metadata": {
    "collapsed": false,
    "pycharm": {
     "name": "#%%\n"
    }
   }
  },
  {
   "cell_type": "code",
   "execution_count": 18,
   "outputs": [
    {
     "data": {
      "text/plain": "<Figure size 432x288 with 1 Axes>",
      "image/png": "[encoded data removed]"
     },
     "metadata": {
      "needs_background": "light"
     },
     "output_type": "display_data"
    }
   ],
   "source": [
    "sns.countplot(x='embarked',data =  df,hue='sex', palette=\"mako_r\")\n",
    "plt.xlabel('Třídy')\n",
    "plt.show()"
   ],
   "metadata": {
    "collapsed": false,
    "pycharm": {
     "name": "#%%\n"
    }
   }
  },
  {
   "cell_type": "code",
   "execution_count": 19,
   "outputs": [
    {
     "data": {
      "text/plain": "<seaborn.axisgrid.FacetGrid at 0x279c5858490>"
     },
     "execution_count": 19,
     "metadata": {},
     "output_type": "execute_result"
    },
    {
     "data": {
      "text/plain": "<Figure size 430.5x360 with 1 Axes>",
      "image/png": "[encoded data removed]"
     },
     "metadata": {
      "needs_background": "light"
     },
     "output_type": "display_data"
    }
   ],
   "source": [
    "x,y = 'embarked', 'sex'\n",
    "\n",
    "(df\n",
    ".groupby(x)[y]\n",
    ".value_counts(normalize=True)\n",
    ".mul(100)\n",
    ".rename('percent')\n",
    ".reset_index()\n",
    ".pipe((sns.catplot,'data'), x=x,y='percent',hue=y,kind='bar',palette=\"mako_r\"))"
   ],
   "metadata": {
    "collapsed": false,
    "pycharm": {
     "name": "#%%\n"
    }
   }
  },
  {
   "cell_type": "markdown",
   "source": [
    "I u míst nalodění můžeme vidět nepatrný vztah, například v Queenstownu se nalodilo skoro stejně žen jako mužů, naopak v Southamptonu to byla pouze třetina žen"
   ],
   "metadata": {
    "collapsed": false,
    "pycharm": {
     "name": "#%% md\n"
    }
   }
  },
  {
   "cell_type": "code",
   "execution_count": 20,
   "outputs": [
    {
     "data": {
      "text/plain": "<Figure size 1440x720 with 4 Axes>",
      "image/png": "[encoded data removed]"
     },
     "metadata": {
      "needs_background": "light"
     },
     "output_type": "display_data"
    }
   ],
   "source": [
    "fig,axes=plt.subplots(2,2,figsize=(20,10))\n",
    "\n",
    "sns.kdeplot( x=df['age'], hue=df['sex'],ax=axes[0,0],palette=\"mako_r\")\n",
    "\n",
    "sns.kdeplot(x=df['fare'], hue=df['sex'],ax=axes[1,0],palette=\"mako_r\")\n",
    "\n",
    "sns.kdeplot(x=df['parch'], hue=df['sex'], ax=axes[0,1],palette=\"mako_r\")\n",
    "\n",
    "sns.kdeplot(x=df['sibsp'], hue=df['sex'], ax=axes[1,1],palette=\"mako_r\")\n",
    "plt.show()"
   ],
   "metadata": {
    "collapsed": false,
    "pycharm": {
     "name": "#%%\n"
    }
   }
  },
  {
   "cell_type": "markdown",
   "source": [
    "Z EDA vyplývá, že největší závislot je u proměnné survived, kde přežilo více žen než mužů. Menší trend je i u proměnné pclass a embarked, u nominálních proměnných nelze vypozorovat žádné významné trendy v závisloti na cílovou proměnnou"
   ],
   "metadata": {
    "collapsed": false,
    "pycharm": {
     "name": "#%% md\n"
    }
   }
  },
  {
   "cell_type": "markdown",
   "source": [
    "## Feature engineering"
   ],
   "metadata": {
    "collapsed": false,
    "pycharm": {
     "name": "#%% md\n"
    }
   }
  },
  {
   "cell_type": "markdown",
   "source": [
    "### Úprava dat pro potřeby modelů\n",
    "Vytvoření dummy sloupců pomocí one-hot-encoder. Vyzkoušel jsem dva přístupy, kdy jsem v jednom atributy nechal a pouze pro ně vytvořil dummy proměnné, v druhém přístupu jsem zkusil z numerických sloupců vytvořit pouze booleovksé hodnoty. I přesto, že v EDA nejsou vidět žádné závisloti, tak druhý přístup přinesl horší výsledky\n"
   ],
   "metadata": {
    "collapsed": false,
    "pycharm": {
     "name": "#%% md\n"
    }
   }
  },
  {
   "cell_type": "code",
   "execution_count": 21,
   "outputs": [],
   "source": [
    "#vytvoření kopie datasetu pro Embedding NN\n",
    "dfEmb = df\n",
    "def encodeDf(df, keepAll):\n",
    "    #první přístup pouze vytvoří pro kategorické proměnné dummy sloupce a dopne původni\n",
    "    if keepAll:\n",
    "        enc = OneHotEncoder(handle_unknown='error')\n",
    "        enc_df = pd.DataFrame(enc.fit_transform(df[['survived','pclass','embarked']]).toarray())\n",
    "\n",
    "        enc_df.columns = enc.get_feature_names(['survived','pclass','embarked'])\n",
    "\n",
    "        df = df.join(enc_df)\n",
    "\n",
    "        df = df.drop(['survived','pclass','embarked'], axis = 1)\n",
    "\n",
    "    #druhý přístup navíc z numerických sloupců(sibsp a parch) udělá booleovské a vytvoří pro ně dummy sloupce\n",
    "    #horší performance modelů\n",
    "    else:\n",
    "        df['sibsp'] = df['sibsp'].astype('bool')\n",
    "        df['parch'] = df['parch'].astype('bool')\n",
    "\n",
    "        enc = OneHotEncoder(handle_unknown='ignore')\n",
    "\n",
    "        enc_df = pd.DataFrame(enc.fit_transform(df[['survived','pclass','embarked','sibsp','parch']]).toarray())\n",
    "\n",
    "        enc_df.columns = enc.get_feature_names(['survived','pclass','embarked','sibsp','parch'])\n",
    "\n",
    "        df = df.join(enc_df)\n",
    "\n",
    "        df = df.drop(['survived','pclass','embarked','sibsp','parch'], axis = 1)\n",
    "\n",
    "    return df\n"
   ],
   "metadata": {
    "collapsed": false,
    "pycharm": {
     "name": "#%%\n"
    }
   }
  },
  {
   "cell_type": "code",
   "execution_count": 22,
   "outputs": [
    {
     "data": {
      "text/plain": "         sex        age  sibsp  parch      fare  survived_no  survived_yes  \\\n0     female  29.000000      0      0  211.3375          0.0           1.0   \n1       male   0.916700      1      2  151.5500          0.0           1.0   \n2     female   2.000000      1      2  151.5500          1.0           0.0   \n3       male  30.000000      1      2  151.5500          1.0           0.0   \n4     female  25.000000      1      2  151.5500          1.0           0.0   \n...      ...        ...    ...    ...       ...          ...           ...   \n1304  female  14.500000      1      0   14.4542          1.0           0.0   \n1305  female  29.881135      1      0   14.4542          1.0           0.0   \n1306    male  26.500000      0      0    7.2250          1.0           0.0   \n1307    male  27.000000      0      0    7.2250          NaN           NaN   \n1308    male  29.000000      0      0    7.8750          NaN           NaN   \n\n      pclass_1  pclass_2  pclass_3  embarked_Cherbourg  embarked_Queenstown  \\\n0          1.0       0.0       0.0                 0.0                  0.0   \n1          1.0       0.0       0.0                 0.0                  0.0   \n2          1.0       0.0       0.0                 0.0                  0.0   \n3          1.0       0.0       0.0                 0.0                  0.0   \n4          1.0       0.0       0.0                 0.0                  0.0   \n...        ...       ...       ...                 ...                  ...   \n1304       0.0       0.0       1.0                 1.0                  0.0   \n1305       0.0       0.0       1.0                 1.0                  0.0   \n1306       0.0       0.0       1.0                 0.0                  0.0   \n1307       NaN       NaN       NaN                 NaN                  NaN   \n1308       NaN       NaN       NaN                 NaN                  NaN   \n\n      embarked_Southampton  \n0                      1.0  \n1                      1.0  \n2                      1.0  \n3                      1.0  \n4                      1.0  \n...                    ...  \n1304                   0.0  \n1305                   0.0  \n1306                   1.0  \n1307                   NaN  \n1308                   NaN  \n\n[1307 rows x 13 columns]",
      "text/html": "<div>\n<style scoped>\n    .dataframe tbody tr th:only-of-type {\n        vertical-align: middle;\n    }\n\n    .dataframe tbody tr th {\n        vertical-align: top;\n    }\n\n    .dataframe thead th {\n        text-align: right;\n    }\n</style>\n<table border=\"1\" class=\"dataframe\">\n  <thead>\n    <tr style=\"text-align: right;\">\n      <th></th>\n      <th>sex</th>\n      <th>age</th>\n      <th>sibsp</th>\n      <th>parch</th>\n      <th>fare</th>\n      <th>survived_no</th>\n      <th>survived_yes</th>\n      <th>pclass_1</th>\n      <th>pclass_2</th>\n      <th>pclass_3</th>\n      <th>embarked_Cherbourg</th>\n      <th>embarked_Queenstown</th>\n      <th>embarked_Southampton</th>\n    </tr>\n  </thead>\n  <tbody>\n    <tr>\n      <th>0</th>\n      <td>female</td>\n      <td>29.000000</td>\n      <td>0</td>\n      <td>0</td>\n      <td>211.3375</td>\n      <td>0.0</td>\n      <td>1.0</td>\n      <td>1.0</td>\n      <td>0.0</td>\n      <td>0.0</td>\n      <td>0.0</td>\n      <td>0.0</td>\n      <td>1.0</td>\n    </tr>\n    <tr>\n      <th>1</th>\n      <td>male</td>\n      <td>0.916700</td>\n      <td>1</td>\n      <td>2</td>\n      <td>151.5500</td>\n      <td>0.0</td>\n      <td>1.0</td>\n      <td>1.0</td>\n      <td>0.0</td>\n      <td>0.0</td>\n      <td>0.0</td>\n      <td>0.0</td>\n      <td>1.0</td>\n    </tr>\n    <tr>\n      <th>2</th>\n      <td>female</td>\n      <td>2.000000</td>\n      <td>1</td>\n      <td>2</td>\n      <td>151.5500</td>\n      <td>1.0</td>\n      <td>0.0</td>\n      <td>1.0</td>\n      <td>0.0</td>\n      <td>0.0</td>\n      <td>0.0</td>\n      <td>0.0</td>\n      <td>1.0</td>\n    </tr>\n    <tr>\n      <th>3</th>\n      <td>male</td>\n      <td>30.000000</td>\n      <td>1</td>\n      <td>2</td>\n      <td>151.5500</td>\n      <td>1.0</td>\n      <td>0.0</td>\n      <td>1.0</td>\n      <td>0.0</td>\n      <td>0.0</td>\n      <td>0.0</td>\n      <td>0.0</td>\n      <td>1.0</td>\n    </tr>\n    <tr>\n      <th>4</th>\n      <td>female</td>\n      <td>25.000000</td>\n      <td>1</td>\n      <td>2</td>\n      <td>151.5500</td>\n      <td>1.0</td>\n      <td>0.0</td>\n      <td>1.0</td>\n      <td>0.0</td>\n      <td>0.0</td>\n      <td>0.0</td>\n      <td>0.0</td>\n      <td>1.0</td>\n    </tr>\n    <tr>\n      <th>...</th>\n      <td>...</td>\n      <td>...</td>\n      <td>...</td>\n      <td>...</td>\n      <td>...</td>\n      <td>...</td>\n      <td>...</td>\n      <td>...</td>\n      <td>...</td>\n      <td>...</td>\n      <td>...</td>\n      <td>...</td>\n      <td>...</td>\n    </tr>\n    <tr>\n      <th>1304</th>\n      <td>female</td>\n      <td>14.500000</td>\n      <td>1</td>\n      <td>0</td>\n      <td>14.4542</td>\n      <td>1.0</td>\n      <td>0.0</td>\n      <td>0.0</td>\n      <td>0.0</td>\n      <td>1.0</td>\n      <td>1.0</td>\n      <td>0.0</td>\n      <td>0.0</td>\n    </tr>\n    <tr>\n      <th>1305</th>\n      <td>female</td>\n      <td>29.881135</td>\n      <td>1</td>\n      <td>0</td>\n      <td>14.4542</td>\n      <td>1.0</td>\n      <td>0.0</td>\n      <td>0.0</td>\n      <td>0.0</td>\n      <td>1.0</td>\n      <td>1.0</td>\n      <td>0.0</td>\n      <td>0.0</td>\n    </tr>\n    <tr>\n      <th>1306</th>\n      <td>male</td>\n      <td>26.500000</td>\n      <td>0</td>\n      <td>0</td>\n      <td>7.2250</td>\n      <td>1.0</td>\n      <td>0.0</td>\n      <td>0.0</td>\n      <td>0.0</td>\n      <td>1.0</td>\n      <td>0.0</td>\n      <td>0.0</td>\n      <td>1.0</td>\n    </tr>\n    <tr>\n      <th>1307</th>\n      <td>male</td>\n      <td>27.000000</td>\n      <td>0</td>\n      <td>0</td>\n      <td>7.2250</td>\n      <td>NaN</td>\n      <td>NaN</td>\n      <td>NaN</td>\n      <td>NaN</td>\n      <td>NaN</td>\n      <td>NaN</td>\n      <td>NaN</td>\n      <td>NaN</td>\n    </tr>\n    <tr>\n      <th>1308</th>\n      <td>male</td>\n      <td>29.000000</td>\n      <td>0</td>\n      <td>0</td>\n      <td>7.8750</td>\n      <td>NaN</td>\n      <td>NaN</td>\n      <td>NaN</td>\n      <td>NaN</td>\n      <td>NaN</td>\n      <td>NaN</td>\n      <td>NaN</td>\n      <td>NaN</td>\n    </tr>\n  </tbody>\n</table>\n<p>1307 rows × 13 columns</p>\n</div>"
     },
     "execution_count": 22,
     "metadata": {},
     "output_type": "execute_result"
    }
   ],
   "source": [
    "#enkódování sloupců, hodnota true ponechá numerické sloupce v původním stavu\n",
    "df = encodeDf(df, True)\n",
    "df"
   ],
   "metadata": {
    "collapsed": false,
    "pycharm": {
     "name": "#%%\n"
    }
   }
  },
  {
   "cell_type": "code",
   "execution_count": 23,
   "outputs": [
    {
     "data": {
      "text/plain": "sex                     0\nage                     0\nsibsp                   0\nparch                   0\nfare                    0\nsurvived_no             2\nsurvived_yes            2\npclass_1                2\npclass_2                2\npclass_3                2\nembarked_Cherbourg      2\nembarked_Queenstown     2\nembarked_Southampton    2\ndtype: int64"
     },
     "execution_count": 23,
     "metadata": {},
     "output_type": "execute_result"
    }
   ],
   "source": [
    "df.isnull().sum()"
   ],
   "metadata": {
    "collapsed": false,
    "pycharm": {
     "name": "#%%\n"
    }
   }
  },
  {
   "cell_type": "code",
   "execution_count": 24,
   "outputs": [],
   "source": [
    "#encodování vytvořilo dva null řádky, dropnutí\n",
    "df = df.dropna()"
   ],
   "metadata": {
    "collapsed": false,
    "pycharm": {
     "name": "#%%\n"
    }
   }
  },
  {
   "cell_type": "markdown",
   "source": [
    "## Modely\n",
    "Dva klasické modely, decision tree a logistická regrese, komplexnější XGBoost, neuronová síť (bez embeddings)"
   ],
   "metadata": {
    "collapsed": false,
    "pycharm": {
     "name": "#%% md\n"
    }
   }
  },
  {
   "cell_type": "code",
   "execution_count": 25,
   "outputs": [
    {
     "name": "stderr",
     "output_type": "stream",
     "text": [
      "C:\\Users\\mates\\AppData\\Local\\Temp/ipykernel_18208/1090268639.py:1: SettingWithCopyWarning: \n",
      "A value is trying to be set on a copy of a slice from a DataFrame.\n",
      "Try using .loc[row_indexer,col_indexer] = value instead\n",
      "\n",
      "See the caveats in the documentation: https://pandas.pydata.org/pandas-docs/stable/user_guide/indexing.html#returning-a-view-versus-a-copy\n",
      "  df['sex'] = df['sex'].replace({'female' : 1, 'male' : 0})\n"
     ]
    }
   ],
   "source": [
    "#definování cílové proměnné\n",
    "df['sex'] = df['sex'].replace({'female' : 1, 'male' : 0})\n",
    "X = df.drop(['sex'], axis = 1)\n",
    "y = df['sex']\n",
    "y = y.astype('int')"
   ],
   "metadata": {
    "collapsed": false,
    "pycharm": {
     "name": "#%%\n"
    }
   }
  },
  {
   "cell_type": "markdown",
   "source": [],
   "metadata": {
    "collapsed": false,
    "pycharm": {
     "name": "#%% md\n"
    }
   }
  },
  {
   "cell_type": "markdown",
   "source": [],
   "metadata": {
    "collapsed": false,
    "pycharm": {
     "name": "#%% md\n"
    }
   }
  },
  {
   "cell_type": "code",
   "execution_count": 27,
   "outputs": [],
   "source": [
    "#Splitnutí na trénovací a testovací data\n",
    "X_train, X_test, y_train, y_test = train_test_split(X,y, test_size=0.2, random_state=101)\n",
    "\n",
    "#vybalancování cílové proměnné pro trénovací data\n",
    "ros = RandomOverSampler(sampling_strategy = \"not majority\")\n",
    "\n",
    "X_train, y_train = ros.fit_resample(X_train,y_train)\n",
    "\n",
    "#Scalování features\n",
    "scaler = StandardScaler()\n",
    "train_scaled = scaler.fit_transform(X_train)\n",
    "test_scaled = scaler.transform(X_test)"
   ],
   "metadata": {
    "collapsed": false,
    "pycharm": {
     "name": "#%%\n"
    }
   }
  },
  {
   "cell_type": "markdown",
   "source": [
    "### Rozhodovací strom"
   ],
   "metadata": {
    "collapsed": false,
    "pycharm": {
     "name": "#%% md\n"
    }
   }
  },
  {
   "cell_type": "code",
   "execution_count": 28,
   "outputs": [
    {
     "name": "stdout",
     "output_type": "stream",
     "text": [
      "Accuracy: 64.75%\n",
      "Precision: 52.00%\n",
      "Recall: 54.17%\n"
     ]
    }
   ],
   "source": [
    "DTclassifier = DecisionTreeClassifier(max_leaf_nodes=10)\n",
    "#trénování modelu\n",
    "DTclassifier.fit(train_scaled, y_train)\n",
    "#predikce\n",
    "y_pred = DTclassifier.predict(test_scaled)\n",
    "\n",
    "#výsledky\n",
    "print(f'Accuracy: {accuracy_score(y_test,y_pred)*100:.2f}%')\n",
    "print(f'Precision: {precision_score(y_test,y_pred)*100:.2f}%')\n",
    "print(f'Recall: {recall_score(y_test,y_pred)*100:.2f}%')"
   ],
   "metadata": {
    "collapsed": false,
    "pycharm": {
     "name": "#%%\n"
    }
   }
  },
  {
   "cell_type": "code",
   "execution_count": 29,
   "outputs": [
    {
     "data": {
      "text/plain": "<Figure size 432x288 with 2 Axes>",
      "image/png": "[encoded data removed]"
     },
     "metadata": {
      "needs_background": "light"
     },
     "output_type": "display_data"
    }
   ],
   "source": [
    "plot_confusion_matrix(DTclassifier, test_scaled, y_test,\n",
    "                                 cmap=plt.cm.Blues,)\n",
    "\n",
    "plt.show()"
   ],
   "metadata": {
    "collapsed": false,
    "pycharm": {
     "name": "#%%\n"
    }
   }
  },
  {
   "cell_type": "markdown",
   "source": [
    "### XGBoost klasifikátor\n",
    "Jeden z nejpopulárnějších modelů současnoti, pro tento případ overkill a přílíš málo trénovacích dat"
   ],
   "metadata": {
    "collapsed": false,
    "pycharm": {
     "name": "#%% md\n"
    }
   }
  },
  {
   "cell_type": "code",
   "execution_count": 30,
   "outputs": [
    {
     "name": "stdout",
     "output_type": "stream",
     "text": [
      "Fitting 5 folds for each of 5 candidates, totalling 25 fits\n"
     ]
    },
    {
     "name": "stderr",
     "output_type": "stream",
     "text": [
      "C:\\Users\\mates\\anaconda3\\lib\\site-packages\\sklearn\\model_selection\\_search.py:922: UserWarning: One or more of the test scores are non-finite: [       nan 0.72489545 0.74116988 0.70343037        nan]\n",
      "  warnings.warn(\n",
      "C:\\Users\\mates\\anaconda3\\lib\\site-packages\\xgboost\\sklearn.py:1224: UserWarning: The use of label encoder in XGBClassifier is deprecated and will be removed in a future release. To remove this warning, do the following: 1) Pass option use_label_encoder=False when constructing XGBClassifier object; and 2) Encode your labels (y) as integers starting with 0, i.e. 0, 1, 2, ..., [num_class - 1].\n",
      "  warnings.warn(label_encoder_deprecation_msg, UserWarning)\n"
     ]
    },
    {
     "name": "stdout",
     "output_type": "stream",
     "text": [
      "[18:11:25] WARNING: D:\\bld\\xgboost-split_1645118015404\\work\\src\\learner.cc:1115: Starting in XGBoost 1.3.0, the default evaluation metric used with the objective 'binary:logistic' was changed from 'error' to 'logloss'. Explicitly set eval_metric if you'd like to restore the old behavior.\n"
     ]
    }
   ],
   "source": [
    "#vypis parametru\n",
    "params = {\n",
    "        'n_estimators': stats.randint(50, 1000),\n",
    "        'learning_rate': stats.uniform(0.01, 0.6),\n",
    "        'min_child_weight': [1, 5, 10],\n",
    "        'gamma': [0.5, 1, 1.5, 2, 5],\n",
    "        'subsample': [0.6, 0.8, 1.0,2],\n",
    "        'colsample_bytree': [0.6, 0.8, 1.0],\n",
    "        'max_depth': [6,7,9,10,11,13]\n",
    "\n",
    "        }\n",
    "xgb = XGBClassifier()\n",
    "#vyber nejlepsich parametru\n",
    "rs = RandomizedSearchCV(xgb, param_distributions=params, n_iter=5, n_jobs=-1, cv=5, verbose=3, random_state=1001 )\n",
    "#trenovani\n",
    "rs.fit(train_scaled, y_train)\n",
    "\n",
    "#predikce\n",
    "y_pred = rs.best_estimator_.predict(test_scaled)"
   ],
   "metadata": {
    "collapsed": false,
    "pycharm": {
     "name": "#%%\n"
    }
   }
  },
  {
   "cell_type": "code",
   "execution_count": 31,
   "outputs": [
    {
     "name": "stdout",
     "output_type": "stream",
     "text": [
      "Accuracy: 60.15%\n",
      "Precision: 45.92%\n",
      "Recall: 46.88%\n"
     ]
    }
   ],
   "source": [
    "#výsledky\n",
    "print(f'Accuracy: {accuracy_score(y_test,y_pred)*100:.2f}%')\n",
    "print(f'Precision: {precision_score(y_test,y_pred)*100:.2f}%')\n",
    "print(f'Recall: {recall_score(y_test,y_pred)*100:.2f}%')"
   ],
   "metadata": {
    "collapsed": false,
    "pycharm": {
     "name": "#%%\n"
    }
   }
  },
  {
   "cell_type": "code",
   "execution_count": 32,
   "outputs": [
    {
     "data": {
      "text/plain": "<Figure size 432x288 with 2 Axes>",
      "image/png": "[encoded data removed]"
     },
     "metadata": {
      "needs_background": "light"
     },
     "output_type": "display_data"
    }
   ],
   "source": [
    "plot_confusion_matrix(rs.best_estimator_, test_scaled, y_test,\n",
    "                                 cmap=plt.cm.Blues)\n",
    "\n",
    "plt.show()"
   ],
   "metadata": {
    "collapsed": false,
    "pycharm": {
     "name": "#%%\n"
    }
   }
  },
  {
   "cell_type": "markdown",
   "source": [
    "### Logistická regrese"
   ],
   "metadata": {
    "collapsed": false,
    "pycharm": {
     "name": "#%% md\n"
    }
   }
  },
  {
   "cell_type": "code",
   "execution_count": 33,
   "outputs": [
    {
     "name": "stdout",
     "output_type": "stream",
     "text": [
      "Accuracy: 67.43%\n",
      "Precision: 56.63%\n",
      "Recall: 48.96%\n"
     ]
    }
   ],
   "source": [
    "LRclassifier = LogisticRegression(solver='liblinear', max_iter=5000)\n",
    "#trénování\n",
    "LRclassifier.fit(train_scaled, y_train)\n",
    "#predikce\n",
    "y_pred = LRclassifier.predict(test_scaled)\n",
    "#výsledky\n",
    "print(f'Accuracy: {accuracy_score(y_test,y_pred)*100:.2f}%')\n",
    "print(f'Precision: {precision_score(y_test,y_pred)*100:.2f}%')\n",
    "print(f'Recall: {recall_score(y_test,y_pred)*100:.2f}%')\n"
   ],
   "metadata": {
    "collapsed": false,
    "pycharm": {
     "name": "#%%\n"
    }
   }
  },
  {
   "cell_type": "code",
   "execution_count": 34,
   "outputs": [
    {
     "data": {
      "text/plain": "<Figure size 432x288 with 2 Axes>",
      "image/png": "[encoded data removed]"
     },
     "metadata": {
      "needs_background": "light"
     },
     "output_type": "display_data"
    }
   ],
   "source": [
    "plot_confusion_matrix(DTclassifier, test_scaled, y_test,\n",
    "                                 cmap=plt.cm.Blues,)\n",
    "\n",
    "plt.show()"
   ],
   "metadata": {
    "collapsed": false,
    "pycharm": {
     "name": "#%%\n"
    }
   }
  },
  {
   "cell_type": "markdown",
   "source": [
    "### Neuronová síť\n",
    "neuronová síť se stejným vstupem jako předešlé modely"
   ],
   "metadata": {
    "collapsed": false,
    "pycharm": {
     "name": "#%% md\n"
    }
   }
  },
  {
   "cell_type": "code",
   "execution_count": 35,
   "outputs": [],
   "source": [
    "#vytvoření modelu, vstupní vrstvy, tří skrytých vrstev a jedné výstupní\n",
    "model = tf.keras.models.Sequential([\n",
    "  tf.keras.layers.Flatten(input_shape=(len(X.columns),)),\n",
    "  tf.keras.layers.Dense(32, activation=tf.nn.relu),\n",
    "  tf.keras.layers.Dropout(0.2),\n",
    "  tf.keras.layers.Dense(64, activation=tf.nn.relu),\n",
    "  tf.keras.layers.Dropout(0.2),\n",
    "  tf.keras.layers.Dense(32, activation=tf.nn.relu),\n",
    "  tf.keras.layers.Dense(1, activation=tf.nn.sigmoid)\n",
    "])\n",
    "#compilování modelu\n",
    "model.compile(loss='binary_crossentropy',\n",
    "              optimizer=keras.optimizers.Adam(learning_rate=0.001),\n",
    "               metrics=[\n",
    "                       'accuracy'\n",
    "              ])\n",
    "\n"
   ],
   "metadata": {
    "collapsed": false,
    "pycharm": {
     "name": "#%%\n"
    }
   }
  },
  {
   "cell_type": "code",
   "execution_count": 36,
   "outputs": [
    {
     "name": "stdout",
     "output_type": "stream",
     "text": [
      "Epoch 1/12\n",
      "43/43 [==============================] - 0s 4ms/step - loss: 0.6811 - accuracy: 0.5658 - val_loss: 0.6725 - val_accuracy: 0.6475\n",
      "Epoch 2/12\n",
      "43/43 [==============================] - 0s 1ms/step - loss: 0.6601 - accuracy: 0.6198 - val_loss: 0.6708 - val_accuracy: 0.6398\n",
      "Epoch 3/12\n",
      "43/43 [==============================] - 0s 1ms/step - loss: 0.6463 - accuracy: 0.6309 - val_loss: 0.6449 - val_accuracy: 0.6820\n",
      "Epoch 4/12\n",
      "43/43 [==============================] - 0s 1ms/step - loss: 0.6439 - accuracy: 0.6509 - val_loss: 0.6400 - val_accuracy: 0.6858\n",
      "Epoch 5/12\n",
      "43/43 [==============================] - 0s 1ms/step - loss: 0.6443 - accuracy: 0.6553 - val_loss: 0.6430 - val_accuracy: 0.6820\n",
      "Epoch 6/12\n",
      "43/43 [==============================] - 0s 1ms/step - loss: 0.6407 - accuracy: 0.6405 - val_loss: 0.6330 - val_accuracy: 0.6858\n",
      "Epoch 7/12\n",
      "43/43 [==============================] - 0s 1ms/step - loss: 0.6257 - accuracy: 0.6649 - val_loss: 0.6332 - val_accuracy: 0.6820\n",
      "Epoch 8/12\n",
      "43/43 [==============================] - 0s 1ms/step - loss: 0.6192 - accuracy: 0.6738 - val_loss: 0.6313 - val_accuracy: 0.6858\n",
      "Epoch 9/12\n",
      "43/43 [==============================] - 0s 1ms/step - loss: 0.6161 - accuracy: 0.6679 - val_loss: 0.6269 - val_accuracy: 0.6782\n",
      "Epoch 10/12\n",
      "43/43 [==============================] - 0s 1ms/step - loss: 0.6175 - accuracy: 0.6686 - val_loss: 0.6326 - val_accuracy: 0.6858\n",
      "Epoch 11/12\n",
      "43/43 [==============================] - 0s 1ms/step - loss: 0.6127 - accuracy: 0.6760 - val_loss: 0.6370 - val_accuracy: 0.6782\n",
      "Epoch 12/12\n",
      "43/43 [==============================] - 0s 1ms/step - loss: 0.6103 - accuracy: 0.6723 - val_loss: 0.6279 - val_accuracy: 0.6820\n"
     ]
    }
   ],
   "source": [
    "#trénování neuronové sítě, ukončeno po 12 epochách(overfitting)\n",
    "hist = model.fit(train_scaled, y_train,validation_data=(test_scaled, y_test), epochs=12,  shuffle = True)"
   ],
   "metadata": {
    "collapsed": false,
    "pycharm": {
     "name": "#%%\n"
    }
   }
  },
  {
   "cell_type": "markdown",
   "source": [
    "#### Vyhodnocení\n",
    "Dva grafy porovnávající přesnost a ztrátu pro trénovací a validační data"
   ],
   "metadata": {
    "collapsed": false,
    "pycharm": {
     "name": "#%% md\n"
    }
   }
  },
  {
   "cell_type": "code",
   "execution_count": 38,
   "outputs": [
    {
     "data": {
      "text/plain": "[]"
     },
     "execution_count": 38,
     "metadata": {},
     "output_type": "execute_result"
    },
    {
     "data": {
      "text/plain": "<Figure size 432x288 with 1 Axes>",
      "image/png": "[encoded data removed]"
     },
     "metadata": {},
     "output_type": "display_data"
    }
   ],
   "source": [
    "sns.set()\n",
    "\n",
    "acc = hist.history['accuracy']\n",
    "val = hist.history['val_accuracy']\n",
    "\n",
    "epochs = range(1, len(acc) + 1)\n",
    "\n",
    "plt.plot(epochs, acc, '-', label='Training accuracy')\n",
    "plt.plot(epochs, val, ':', label='Validation accurady')\n",
    "\n",
    "plt.title('Training and validation accuracy')\n",
    "plt.xlabel('Epoch')\n",
    "plt.ylabel('Accuracy')\n",
    "plt.legend(loc='lower right')\n",
    "plt.plot()"
   ],
   "metadata": {
    "collapsed": false,
    "pycharm": {
     "name": "#%%\n"
    }
   }
  },
  {
   "cell_type": "code",
   "execution_count": 39,
   "outputs": [
    {
     "data": {
      "text/plain": "[]"
     },
     "execution_count": 39,
     "metadata": {},
     "output_type": "execute_result"
    },
    {
     "data": {
      "text/plain": "<Figure size 432x288 with 1 Axes>",
      "image/png": "[encoded data removed]"
     },
     "metadata": {},
     "output_type": "display_data"
    }
   ],
   "source": [
    "valLoss = hist.history['val_loss']\n",
    "loss = hist.history['loss']\n",
    "\n",
    "plt.plot(epochs, valLoss, ':', label='Validation loss')\n",
    "plt.plot(epochs, loss, '-', label='Training loss')\n",
    "\n",
    "plt.title('Training and validation loss')\n",
    "plt.xlabel('Epoch')\n",
    "plt.ylabel('Accuracy')\n",
    "plt.legend(loc='upper right')\n",
    "plt.plot()"
   ],
   "metadata": {
    "collapsed": false,
    "pycharm": {
     "name": "#%%\n"
    }
   }
  },
  {
   "cell_type": "code",
   "execution_count": 40,
   "outputs": [
    {
     "data": {
      "text/plain": "     sex\n0      0\n1      0\n2      0\n3      0\n4      1\n..   ...\n256    1\n257    0\n258    1\n259    0\n260    0\n\n[261 rows x 1 columns]",
      "text/html": "<div>\n<style scoped>\n    .dataframe tbody tr th:only-of-type {\n        vertical-align: middle;\n    }\n\n    .dataframe tbody tr th {\n        vertical-align: top;\n    }\n\n    .dataframe thead th {\n        text-align: right;\n    }\n</style>\n<table border=\"1\" class=\"dataframe\">\n  <thead>\n    <tr style=\"text-align: right;\">\n      <th></th>\n      <th>sex</th>\n    </tr>\n  </thead>\n  <tbody>\n    <tr>\n      <th>0</th>\n      <td>0</td>\n    </tr>\n    <tr>\n      <th>1</th>\n      <td>0</td>\n    </tr>\n    <tr>\n      <th>2</th>\n      <td>0</td>\n    </tr>\n    <tr>\n      <th>3</th>\n      <td>0</td>\n    </tr>\n    <tr>\n      <th>4</th>\n      <td>1</td>\n    </tr>\n    <tr>\n      <th>...</th>\n      <td>...</td>\n    </tr>\n    <tr>\n      <th>256</th>\n      <td>1</td>\n    </tr>\n    <tr>\n      <th>257</th>\n      <td>0</td>\n    </tr>\n    <tr>\n      <th>258</th>\n      <td>1</td>\n    </tr>\n    <tr>\n      <th>259</th>\n      <td>0</td>\n    </tr>\n    <tr>\n      <th>260</th>\n      <td>0</td>\n    </tr>\n  </tbody>\n</table>\n<p>261 rows × 1 columns</p>\n</div>"
     },
     "execution_count": 40,
     "metadata": {},
     "output_type": "execute_result"
    }
   ],
   "source": [
    "#převedení hodnot na celá čísla, vyhodnocení\n",
    "y_sex = model.predict(test_scaled)\n",
    "testCol = pd.DataFrame({'sex': y_sex[:, 0]})\n",
    "testCol['sex'] = testCol['sex'].round(0).astype('int')\n",
    "testCol"
   ],
   "metadata": {
    "collapsed": false,
    "pycharm": {
     "name": "#%%\n"
    }
   }
  },
  {
   "cell_type": "code",
   "execution_count": 41,
   "outputs": [
    {
     "name": "stdout",
     "output_type": "stream",
     "text": [
      "Accuracy: 68.20%\n",
      "Precision: 57.47%\n",
      "Recall: 52.08%\n"
     ]
    }
   ],
   "source": [
    "print(f'Accuracy: {accuracy_score(y_test,testCol)*100:.2f}%')\n",
    "print(f'Precision: {precision_score(y_test,testCol)*100:.2f}%')\n",
    "print(f'Recall: {recall_score(y_test,testCol)*100:.2f}%')"
   ],
   "metadata": {
    "collapsed": false,
    "pycharm": {
     "name": "#%%\n"
    }
   }
  },
  {
   "cell_type": "code",
   "execution_count": 42,
   "outputs": [
    {
     "data": {
      "text/plain": "array([[128,  37],\n       [ 46,  50]], dtype=int64)"
     },
     "execution_count": 42,
     "metadata": {},
     "output_type": "execute_result"
    }
   ],
   "source": [
    "confusion_matrix(y_test,testCol)"
   ],
   "metadata": {
    "collapsed": false,
    "pycharm": {
     "name": "#%%\n"
    }
   }
  },
  {
   "cell_type": "markdown",
   "source": [
    "### Summary\n",
    "Po delší úprávě parametrů dodala neuronová síť téměř stejné výsledky jako tradiční algoritmy. Přesnost téměř kopíruje nevybalancovanost datasetu, což i dokazuje daleko nižší precision a recall. V dalším kroku se tedy zaměříme na neuronovou síť s využitím Embedding vrstvy."
   ],
   "metadata": {
    "collapsed": false,
    "pycharm": {
     "name": "#%% md\n"
    }
   }
  },
  {
   "cell_type": "markdown",
   "source": [
    "## Neuronová síť s využitím embeddings"
   ],
   "metadata": {
    "collapsed": false,
    "pycharm": {
     "name": "#%% md\n"
    }
   }
  },
  {
   "cell_type": "code",
   "execution_count": 44,
   "outputs": [
    {
     "data": {
      "text/plain": "     pclass survived  sex        age  sibsp  parch      fare     embarked\n0     first      yes    1  29.000000      0      0  211.3375  Southampton\n1     first      yes    0   0.916700      1      2  151.5500  Southampton\n2     first       no    1   2.000000      1      2  151.5500  Southampton\n3     first       no    0  30.000000      1      2  151.5500  Southampton\n4     first       no    1  25.000000      1      2  151.5500  Southampton\n...     ...      ...  ...        ...    ...    ...       ...          ...\n1304  third       no    1  14.500000      1      0   14.4542    Cherbourg\n1305  third       no    1  29.881135      1      0   14.4542    Cherbourg\n1306  third       no    0  26.500000      0      0    7.2250    Cherbourg\n1307  third       no    0  27.000000      0      0    7.2250    Cherbourg\n1308  third       no    0  29.000000      0      0    7.8750  Southampton\n\n[1307 rows x 8 columns]",
      "text/html": "<div>\n<style scoped>\n    .dataframe tbody tr th:only-of-type {\n        vertical-align: middle;\n    }\n\n    .dataframe tbody tr th {\n        vertical-align: top;\n    }\n\n    .dataframe thead th {\n        text-align: right;\n    }\n</style>\n<table border=\"1\" class=\"dataframe\">\n  <thead>\n    <tr style=\"text-align: right;\">\n      <th></th>\n      <th>pclass</th>\n      <th>survived</th>\n      <th>sex</th>\n      <th>age</th>\n      <th>sibsp</th>\n      <th>parch</th>\n      <th>fare</th>\n      <th>embarked</th>\n    </tr>\n  </thead>\n  <tbody>\n    <tr>\n      <th>0</th>\n      <td>first</td>\n      <td>yes</td>\n      <td>1</td>\n      <td>29.000000</td>\n      <td>0</td>\n      <td>0</td>\n      <td>211.3375</td>\n      <td>Southampton</td>\n    </tr>\n    <tr>\n      <th>1</th>\n      <td>first</td>\n      <td>yes</td>\n      <td>0</td>\n      <td>0.916700</td>\n      <td>1</td>\n      <td>2</td>\n      <td>151.5500</td>\n      <td>Southampton</td>\n    </tr>\n    <tr>\n      <th>2</th>\n      <td>first</td>\n      <td>no</td>\n      <td>1</td>\n      <td>2.000000</td>\n      <td>1</td>\n      <td>2</td>\n      <td>151.5500</td>\n      <td>Southampton</td>\n    </tr>\n    <tr>\n      <th>3</th>\n      <td>first</td>\n      <td>no</td>\n      <td>0</td>\n      <td>30.000000</td>\n      <td>1</td>\n      <td>2</td>\n      <td>151.5500</td>\n      <td>Southampton</td>\n    </tr>\n    <tr>\n      <th>4</th>\n      <td>first</td>\n      <td>no</td>\n      <td>1</td>\n      <td>25.000000</td>\n      <td>1</td>\n      <td>2</td>\n      <td>151.5500</td>\n      <td>Southampton</td>\n    </tr>\n    <tr>\n      <th>...</th>\n      <td>...</td>\n      <td>...</td>\n      <td>...</td>\n      <td>...</td>\n      <td>...</td>\n      <td>...</td>\n      <td>...</td>\n      <td>...</td>\n    </tr>\n    <tr>\n      <th>1304</th>\n      <td>third</td>\n      <td>no</td>\n      <td>1</td>\n      <td>14.500000</td>\n      <td>1</td>\n      <td>0</td>\n      <td>14.4542</td>\n      <td>Cherbourg</td>\n    </tr>\n    <tr>\n      <th>1305</th>\n      <td>third</td>\n      <td>no</td>\n      <td>1</td>\n      <td>29.881135</td>\n      <td>1</td>\n      <td>0</td>\n      <td>14.4542</td>\n      <td>Cherbourg</td>\n    </tr>\n    <tr>\n      <th>1306</th>\n      <td>third</td>\n      <td>no</td>\n      <td>0</td>\n      <td>26.500000</td>\n      <td>0</td>\n      <td>0</td>\n      <td>7.2250</td>\n      <td>Cherbourg</td>\n    </tr>\n    <tr>\n      <th>1307</th>\n      <td>third</td>\n      <td>no</td>\n      <td>0</td>\n      <td>27.000000</td>\n      <td>0</td>\n      <td>0</td>\n      <td>7.2250</td>\n      <td>Cherbourg</td>\n    </tr>\n    <tr>\n      <th>1308</th>\n      <td>third</td>\n      <td>no</td>\n      <td>0</td>\n      <td>29.000000</td>\n      <td>0</td>\n      <td>0</td>\n      <td>7.8750</td>\n      <td>Southampton</td>\n    </tr>\n  </tbody>\n</table>\n<p>1307 rows × 8 columns</p>\n</div>"
     },
     "execution_count": 44,
     "metadata": {},
     "output_type": "execute_result"
    }
   ],
   "source": [
    "#kopie původního datasetu, záměna hodnot za stringy pro demonstraci embedding layer\n",
    "dfEmb['sex'] = dfEmb['sex'].replace({'female':1, 'male' : 0})\n",
    "dfEmb['pclass'] = dfEmb['pclass'].replace({1 : 'first', 2 : 'second', 3 : 'third'})\n",
    "dfEmb"
   ],
   "metadata": {
    "collapsed": false,
    "pycharm": {
     "name": "#%%\n"
    }
   }
  },
  {
   "cell_type": "markdown",
   "source": [
    "Definice cílové proměnné, splitnutí datasetu. Vybalancování trénovacích dat a následný split na numerické a kategorické features"
   ],
   "metadata": {
    "collapsed": false,
    "pycharm": {
     "name": "#%% md\n"
    }
   }
  },
  {
   "cell_type": "code",
   "execution_count": 45,
   "outputs": [],
   "source": [
    "\n",
    "X = dfEmb.drop('sex',axis =1)\n",
    "y = dfEmb['sex']\n",
    "\n",
    "X_train, X_test, y_train, y_test = train_test_split(X,y, test_size=0.2, random_state=101)\n",
    "\n",
    "ros = RandomOverSampler(sampling_strategy = \"not majority\")\n",
    "\n",
    "X_train, y_train = ros.fit_resample(X_train,y_train)\n",
    "\n",
    "c_inputs_train = X_train[['pclass','survived','embarked']]\n",
    "n_inputs_train = X_train[['age','sibsp','parch','fare']]\n",
    "\n",
    "c_inputs_test = X_test[['pclass','survived','embarked']]\n",
    "n_inputs_test = X_test[['age','sibsp','parch','fare']]\n",
    "\n",
    "#nastavení tresholdu pro přesnost neuronové sítě\n",
    "acc_treshold = 0.75"
   ],
   "metadata": {
    "collapsed": false,
    "pycharm": {
     "name": "#%%\n"
    }
   }
  },
  {
   "cell_type": "markdown",
   "source": [
    "Callback, který ukončí trénování sítě při dosažení přesnosti 75%, delší trénování vedlo k overfittingu a slabé výkonnosti/stagnaci modelu"
   ],
   "metadata": {
    "collapsed": false,
    "pycharm": {
     "name": "#%% md\n"
    }
   }
  },
  {
   "cell_type": "code",
   "execution_count": 46,
   "outputs": [],
   "source": [
    "#Třída, která hledá překročení hranice přesnosti modelu\n",
    "class myCallback(tf.keras.callbacks.Callback):\n",
    "    def on_epoch_end(self, epoch, logs={}):\n",
    "        if(logs.get('val_accuracy') is not None and logs.get('val_accuracy') >= acc_treshold):\n",
    "            print(\"\\nDosažení %2.2f%% přesnosti, další trénování povede k overfittingu.\" %(acc_treshold*100))\n",
    "            self.model.stop_training = True"
   ],
   "metadata": {
    "collapsed": false,
    "pycharm": {
     "name": "#%%\n"
    }
   }
  },
  {
   "cell_type": "code",
   "execution_count": 47,
   "outputs": [],
   "source": [
    "#zavolání třídy pro sledování hranice přesnosti\n",
    "callbacks = myCallback()\n",
    "\n",
    "#encodování kategorických proměnných\n",
    "enc = OneHotEncoder(handle_unknown='error')\n",
    "one_hot_encoded_cat_data_train = pd.DataFrame(enc.fit_transform(c_inputs_train).toarray())\n",
    "one_hot_encoded_cat_data_test = pd.DataFrame(enc.fit_transform(c_inputs_test).toarray())\n",
    "\n",
    "\n",
    "n_unique_cat  = len(np.unique(c_inputs_train))\n",
    "#embedding size dle nepsaného pravidla 50, počet kategorií / 2\n",
    "embedding_size = min(np.ceil((n_unique_cat)/2), 50 )\n",
    "embedding_size = int(embedding_size)\n",
    "\n",
    "# Specifikace input vrstev a velikost tvaru inputu\n",
    "inp_cat_data = keras.layers.Input(shape=(n_unique_cat,))\n",
    "inp_num_data = keras.layers.Input(shape=(n_inputs_train.shape[1],))\n",
    "\n",
    "#vytvoření embedding vrstvy\n",
    "emb = keras.layers.Embedding(input_dim=n_unique_cat, output_dim=embedding_size)(inp_cat_data)\n",
    "\n",
    "#sploštěn tensoru aby byla možnost spojit jej s numerických imputem\n",
    "flatten = keras.layers.Flatten()(emb)\n",
    "\n",
    "#spojení numerických a kategorických inputů\n",
    "conc = keras.layers.Concatenate()([flatten, inp_num_data])\n",
    "\n",
    "#skryté vrstvy\n",
    "dense1 = keras.layers.Dense(32, activation=tf.nn.relu, )(conc)\n",
    "dense2 = keras.layers.Dense(64, activation=tf.nn.relu, )(conc)\n",
    "\n",
    "#output vrstva, aktivační vrstva sigmoid pro binární klasifikaci\n",
    "out = keras.layers.Dense(1, activation=tf.nn.sigmoid)(dense1)\n",
    "model = keras.Model(inputs=[inp_cat_data, inp_num_data], outputs=out)\n",
    "\n",
    "#compilace modelu\n",
    "model.compile(optimizer=tf.optimizers.Adam(),\n",
    "              loss='binary_crossentropy',\n",
    "              metrics='accuracy')"
   ],
   "metadata": {
    "collapsed": false,
    "pycharm": {
     "name": "#%%\n"
    }
   }
  },
  {
   "cell_type": "markdown",
   "source": [
    "Trénování modelu, callback jej zastaví při dosažení přesnosti 75%, případně bude třénován pro 10 epoch, delší trénování způsobovalo overfitting"
   ],
   "metadata": {
    "collapsed": false,
    "pycharm": {
     "name": "#%% md\n"
    }
   }
  },
  {
   "cell_type": "code",
   "execution_count": 48,
   "outputs": [
    {
     "name": "stdout",
     "output_type": "stream",
     "text": [
      "Epoch 1/10\n",
      "43/43 [==============================] - 0s 3ms/step - loss: 1.0278 - accuracy: 0.5380 - val_loss: 0.6719 - val_accuracy: 0.6603\n",
      "Epoch 2/10\n",
      "43/43 [==============================] - 0s 1ms/step - loss: 0.7042 - accuracy: 0.6080 - val_loss: 0.6287 - val_accuracy: 0.6679\n",
      "Epoch 3/10\n",
      "43/43 [==============================] - 0s 1ms/step - loss: 0.6481 - accuracy: 0.6343 - val_loss: 0.6016 - val_accuracy: 0.6947\n",
      "Epoch 4/10\n",
      "43/43 [==============================] - 0s 1ms/step - loss: 0.6097 - accuracy: 0.6912 - val_loss: 0.5694 - val_accuracy: 0.7405\n",
      "Epoch 5/10\n",
      "43/43 [==============================] - 0s 1ms/step - loss: 0.5494 - accuracy: 0.7438 - val_loss: 0.6170 - val_accuracy: 0.6947\n",
      "Epoch 6/10\n",
      "43/43 [==============================] - 0s 1ms/step - loss: 0.5305 - accuracy: 0.7599 - val_loss: 0.5331 - val_accuracy: 0.7405\n",
      "Epoch 7/10\n",
      " 1/43 [..............................] - ETA: 0s - loss: 0.4415 - accuracy: 0.8750\n",
      "Reached 75.00% accuracy, so stopping training!!\n",
      "43/43 [==============================] - 0s 1ms/step - loss: 0.4987 - accuracy: 0.7745 - val_loss: 0.5182 - val_accuracy: 0.7557\n"
     ]
    }
   ],
   "source": [
    "hist = model.fit([one_hot_encoded_cat_data_train, n_inputs_train], y_train,\n",
    "          validation_data=([one_hot_encoded_cat_data_test, n_inputs_test], y_test), epochs=10, shuffle = True,callbacks=[callbacks])"
   ],
   "metadata": {
    "collapsed": false,
    "pycharm": {
     "name": "#%%\n"
    }
   }
  },
  {
   "cell_type": "markdown",
   "source": [
    "#### Vyhodnocení\n",
    "Stejné vyhodnocení neuronové sítě, dva grafy sledující přesnost a loss pro trénovací a validační data\n"
   ],
   "metadata": {
    "collapsed": false,
    "pycharm": {
     "name": "#%% md\n"
    }
   }
  },
  {
   "cell_type": "code",
   "execution_count": 49,
   "outputs": [
    {
     "data": {
      "text/plain": "[]"
     },
     "execution_count": 49,
     "metadata": {},
     "output_type": "execute_result"
    },
    {
     "data": {
      "text/plain": "<Figure size 432x288 with 1 Axes>",
      "image/png": "[encoded data removed]"
     },
     "metadata": {},
     "output_type": "display_data"
    }
   ],
   "source": [
    "acc = hist.history['accuracy']\n",
    "val = hist.history['val_accuracy']\n",
    "\n",
    "epochs = range(1, len(acc) + 1)\n",
    "\n",
    "plt.plot(epochs, acc, '-', label='Training accuracy')\n",
    "plt.plot(epochs, val, ':', label='Validation accurady')\n",
    "\n",
    "plt.title('Training and validation accuracy')\n",
    "plt.xlabel('Epoch')\n",
    "plt.ylabel('Accuracy')\n",
    "plt.legend(loc='lower right')\n",
    "plt.plot()"
   ],
   "metadata": {
    "collapsed": false,
    "pycharm": {
     "name": "#%%\n"
    }
   }
  },
  {
   "cell_type": "code",
   "execution_count": 50,
   "outputs": [
    {
     "data": {
      "text/plain": "[]"
     },
     "execution_count": 50,
     "metadata": {},
     "output_type": "execute_result"
    },
    {
     "data": {
      "text/plain": "<Figure size 432x288 with 1 Axes>",
      "image/png": "[encoded data removed]"
     },
     "metadata": {},
     "output_type": "display_data"
    }
   ],
   "source": [
    "valLoss = hist.history['val_loss']\n",
    "loss = hist.history['loss']\n",
    "\n",
    "plt.plot(epochs, valLoss, ':', label='Validation loss')\n",
    "plt.plot(epochs, loss, '-', label='Training loss')\n",
    "\n",
    "plt.title('Training and validation loss')\n",
    "plt.xlabel('Epoch')\n",
    "plt.ylabel('Accuracy')\n",
    "plt.legend(loc='upper right')\n",
    "plt.plot()"
   ],
   "metadata": {
    "collapsed": false,
    "pycharm": {
     "name": "#%%\n"
    }
   }
  },
  {
   "cell_type": "code",
   "execution_count": 51,
   "outputs": [
    {
     "data": {
      "text/plain": "array([[0.76748466],\n       [0.7183782 ],\n       [0.5537022 ],\n       [0.33092374],\n       [0.6904426 ],\n       [0.32782227],\n       [0.5350534 ],\n       [0.16071042],\n       [0.2713688 ],\n       [0.18118992],\n       [0.79328036],\n       [0.7432078 ],\n       [0.17366424],\n       [0.766252  ],\n       [0.44000545],\n       [0.16755515],\n       [0.33257562],\n       [0.745765  ],\n       [0.6937133 ],\n       [0.1955606 ],\n       [0.8691571 ],\n       [0.15063381],\n       [0.35461354],\n       [0.25472224],\n       [0.16586888],\n       [0.22604302],\n       [0.82323545],\n       [0.4856553 ],\n       [0.82734716],\n       [0.76712084],\n       [0.822595  ],\n       [0.09774974],\n       [0.37033704],\n       [0.6745218 ],\n       [0.26074743],\n       [0.3137005 ],\n       [0.8275435 ],\n       [0.7111152 ],\n       [0.2246145 ],\n       [0.70610607],\n       [0.09753582],\n       [0.63338923],\n       [0.14767021],\n       [0.17449316],\n       [0.7372476 ],\n       [0.76864684],\n       [0.6801537 ],\n       [0.7925612 ],\n       [0.62821096],\n       [0.6968926 ],\n       [0.10683995],\n       [0.1808441 ],\n       [0.15207565],\n       [0.67728245],\n       [0.31089613],\n       [0.6592059 ],\n       [0.18118992],\n       [0.8258517 ],\n       [0.19576839],\n       [0.26766962],\n       [0.1932855 ],\n       [0.8252927 ],\n       [0.2539876 ],\n       [0.8506606 ],\n       [0.08502415],\n       [0.16779575],\n       [0.48737097],\n       [0.5413296 ],\n       [0.33534306],\n       [0.65997446],\n       [0.07319072],\n       [0.75593793],\n       [0.15207565],\n       [0.04840624],\n       [0.65016806],\n       [0.8494364 ],\n       [0.27027345],\n       [0.6334524 ],\n       [0.13568607],\n       [0.23048124],\n       [0.19856107],\n       [0.8001048 ],\n       [0.24631223],\n       [0.2055054 ],\n       [0.58883005],\n       [0.18373999],\n       [0.27112857],\n       [0.66200644],\n       [0.6005622 ],\n       [0.32719946],\n       [0.07292506],\n       [0.09821215],\n       [0.10142481],\n       [0.7232005 ],\n       [0.12239864],\n       [0.25557232],\n       [0.16496587],\n       [0.18138185],\n       [0.2536106 ],\n       [0.68793666],\n       [0.58870155],\n       [0.79372275],\n       [0.27698237],\n       [0.3569162 ],\n       [0.211723  ],\n       [0.69786954],\n       [0.8546604 ],\n       [0.7743897 ],\n       [0.66502   ],\n       [0.22396469],\n       [0.25734335],\n       [0.841243  ],\n       [0.15207565],\n       [0.8542485 ],\n       [0.15483984],\n       [0.18118992],\n       [0.19705749],\n       [0.33977205],\n       [0.27323264],\n       [0.7398956 ],\n       [0.76876986],\n       [0.17921844],\n       [0.11134809],\n       [0.58065313],\n       [0.2543386 ],\n       [0.13993526],\n       [0.62990975],\n       [0.2002869 ],\n       [0.549815  ],\n       [0.11991879],\n       [0.7101866 ],\n       [0.6968084 ],\n       [0.1135973 ],\n       [0.27741808],\n       [0.7953533 ],\n       [0.2901761 ],\n       [0.27841294],\n       [0.38835758],\n       [0.18386737],\n       [0.2250838 ],\n       [0.15436587],\n       [0.22418109],\n       [0.15063381],\n       [0.15063381],\n       [0.8787902 ],\n       [0.7985335 ],\n       [0.20413673],\n       [0.8029363 ],\n       [0.37436253],\n       [0.14837974],\n       [0.69292504],\n       [0.85068417],\n       [0.7192424 ],\n       [0.20041355],\n       [0.7690544 ],\n       [0.7776046 ],\n       [0.584711  ],\n       [0.56241757],\n       [0.6243434 ],\n       [0.22459191],\n       [0.58778703],\n       [0.50639844],\n       [0.45909894],\n       [0.22080564],\n       [0.79132056],\n       [0.17921844],\n       [0.59318084],\n       [0.1686649 ],\n       [0.22848535],\n       [0.09339318],\n       [0.49180713],\n       [0.03908846],\n       [0.26042563],\n       [0.6513814 ],\n       [0.74722743],\n       [0.30721784],\n       [0.19953424],\n       [0.28660595],\n       [0.22831175],\n       [0.12473211],\n       [0.12117186],\n       [0.15063381],\n       [0.41410464],\n       [0.62851506],\n       [0.24175149],\n       [0.6292445 ],\n       [0.18262553],\n       [0.09393609],\n       [0.8673121 ],\n       [0.30721784],\n       [0.93372095],\n       [0.22857326],\n       [0.22576725],\n       [0.34383172],\n       [0.21678251],\n       [0.7731982 ],\n       [0.13443187],\n       [0.69786954],\n       [0.57752657],\n       [0.765499  ],\n       [0.18740284],\n       [0.8668182 ],\n       [0.6974569 ],\n       [0.09922853],\n       [0.21942344],\n       [0.19497895],\n       [0.74752235],\n       [0.7684448 ],\n       [0.6401969 ],\n       [0.26251715],\n       [0.6334524 ],\n       [0.34491995],\n       [0.18118992],\n       [0.03750339],\n       [0.16633812],\n       [0.26000986],\n       [0.69166607],\n       [0.35110664],\n       [0.38191068],\n       [0.2280274 ],\n       [0.60930586],\n       [0.7673868 ],\n       [0.3703371 ],\n       [0.15207565],\n       [0.09691423],\n       [0.16790059],\n       [0.76667535],\n       [0.17890978],\n       [0.2627741 ],\n       [0.17425781],\n       [0.16619211],\n       [0.19935068],\n       [0.17425781],\n       [0.19202289],\n       [0.12559554],\n       [0.64210224],\n       [0.15063381],\n       [0.25526553],\n       [0.15207565],\n       [0.22377086],\n       [0.21059552],\n       [0.18118992],\n       [0.15207565],\n       [0.7677756 ],\n       [0.8673121 ],\n       [0.67195237],\n       [0.15808761],\n       [0.1235528 ],\n       [0.6862377 ],\n       [0.5502368 ],\n       [0.8820302 ],\n       [0.09446979],\n       [0.25822723],\n       [0.22604302],\n       [0.69800407],\n       [0.19301805],\n       [0.83006716],\n       [0.15161079],\n       [0.29932445],\n       [0.15063381],\n       [0.15047926],\n       [0.77631557]], dtype=float32)"
     },
     "execution_count": 51,
     "metadata": {},
     "output_type": "execute_result"
    }
   ],
   "source": [
    "y_sex_Emb = model.predict([one_hot_encoded_cat_data_test, n_inputs_test])\n",
    "y_sex_Emb"
   ],
   "metadata": {
    "collapsed": false,
    "pycharm": {
     "name": "#%%\n"
    }
   }
  },
  {
   "cell_type": "code",
   "execution_count": 52,
   "outputs": [
    {
     "data": {
      "text/plain": "     sex\n0      1\n1      1\n2      1\n3      0\n4      1\n..   ...\n257    0\n258    0\n259    0\n260    0\n261    1\n\n[262 rows x 1 columns]",
      "text/html": "<div>\n<style scoped>\n    .dataframe tbody tr th:only-of-type {\n        vertical-align: middle;\n    }\n\n    .dataframe tbody tr th {\n        vertical-align: top;\n    }\n\n    .dataframe thead th {\n        text-align: right;\n    }\n</style>\n<table border=\"1\" class=\"dataframe\">\n  <thead>\n    <tr style=\"text-align: right;\">\n      <th></th>\n      <th>sex</th>\n    </tr>\n  </thead>\n  <tbody>\n    <tr>\n      <th>0</th>\n      <td>1</td>\n    </tr>\n    <tr>\n      <th>1</th>\n      <td>1</td>\n    </tr>\n    <tr>\n      <th>2</th>\n      <td>1</td>\n    </tr>\n    <tr>\n      <th>3</th>\n      <td>0</td>\n    </tr>\n    <tr>\n      <th>4</th>\n      <td>1</td>\n    </tr>\n    <tr>\n      <th>...</th>\n      <td>...</td>\n    </tr>\n    <tr>\n      <th>257</th>\n      <td>0</td>\n    </tr>\n    <tr>\n      <th>258</th>\n      <td>0</td>\n    </tr>\n    <tr>\n      <th>259</th>\n      <td>0</td>\n    </tr>\n    <tr>\n      <th>260</th>\n      <td>0</td>\n    </tr>\n    <tr>\n      <th>261</th>\n      <td>1</td>\n    </tr>\n  </tbody>\n</table>\n<p>262 rows × 1 columns</p>\n</div>"
     },
     "execution_count": 52,
     "metadata": {},
     "output_type": "execute_result"
    }
   ],
   "source": [
    "testCol = pd.DataFrame({'sex': y_sex_Emb[:, 0]})\n",
    "testCol['sex'] = testCol['sex'].round(0).astype('int')\n",
    "testCol"
   ],
   "metadata": {
    "collapsed": false,
    "pycharm": {
     "name": "#%%\n"
    }
   }
  },
  {
   "cell_type": "code",
   "execution_count": 53,
   "outputs": [
    {
     "name": "stdout",
     "output_type": "stream",
     "text": [
      "Accuracy: 75.57%\n",
      "Precision: 69.23%\n",
      "Recall: 69.23%\n"
     ]
    }
   ],
   "source": [
    "print(f'Accuracy: {accuracy_score(y_test,testCol)*100:.2f}%')\n",
    "print(f'Precision: {precision_score(y_test,testCol)*100:.2f}%')\n",
    "print(f'Recall: {recall_score(y_test,testCol)*100:.2f}%')"
   ],
   "metadata": {
    "collapsed": false,
    "pycharm": {
     "name": "#%%\n"
    }
   }
  },
  {
   "cell_type": "code",
   "execution_count": 54,
   "outputs": [
    {
     "data": {
      "text/plain": "array([[126,  32],\n       [ 32,  72]], dtype=int64)"
     },
     "execution_count": 54,
     "metadata": {},
     "output_type": "execute_result"
    }
   ],
   "source": [
    "confusion_matrix(y_test,testCol)"
   ],
   "metadata": {
    "collapsed": false,
    "pycharm": {
     "name": "#%%\n"
    }
   }
  },
  {
   "cell_type": "markdown",
   "source": [
    "#### Summary\n",
    "Neuronová síť s využitím embeddings vrsty dodala lepší výsledky než předchozí modely, jelikož daleko lépe zachovává vztahy u kategorických proměnných.\n",
    "I s relativně nízkým počtem trénovacích dat dosahuje model přesnosti 75% a zároveň i vysokých hodnot precision a recall. Lepší rozložení hodnot trénovacích dat, v porovnání s ostatními modely, je také vidět v matici záměn.\n",
    "\n",
    "Využití embeddings vrstvy je tedy velký boost pro výkon neuronové sítě v případě, že pracujeme i s kategorickými daty."
   ],
   "metadata": {
    "collapsed": false,
    "pycharm": {
     "name": "#%% md\n"
    }
   }
  },
  {
   "cell_type": "code",
   "execution_count": null,
   "outputs": [],
   "source": [],
   "metadata": {
    "collapsed": false,
    "pycharm": {
     "name": "#%%\n"
    }
   }
  }
 ],
 "metadata": {
  "kernelspec": {
   "display_name": "Python 3",
   "language": "python",
   "name": "python3"
  },
  "language_info": {
   "codemirror_mode": {
    "name": "ipython",
    "version": 2
   },
   "file_extension": ".py",
   "mimetype": "text/x-python",
   "name": "python",
   "nbconvert_exporter": "python",
   "pygments_lexer": "ipython2",
   "version": "2.7.6"
  }
 },
 "nbformat": 4,
 "nbformat_minor": 0
}